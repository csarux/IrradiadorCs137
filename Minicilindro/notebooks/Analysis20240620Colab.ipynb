{
 "cells": [
  {
   "cell_type": "markdown",
   "id": "fbcae5f0-9b43-47fa-a915-05e69a1b98ed",
   "metadata": {},
   "source": [
    "# Calibración Irradiador Cs-137 MDS Nordion\n",
    "\n",
    "### Departamento de Radiología, Rehabilitación y Fisioterapia\n",
    "#### Universidad Complutense de Madrid\n",
    "------------\n",
    "17 de junio de 2024\n",
    "## Descripción de las medidas y el análisis\n",
    "\n",
    "La UCM cuenta con [irradiador de sangre](http://bpharma-basic.net/Gammacell%20Irradiator.pdf) que se utiliza para investigación.\n",
    "\n",
    "![irradiador](https://drive.google.com/uc?id=1WtF6ioeDx-ND3fQXeGpyVDN0lk5A1Q_l)\n",
    "\n",
    "En este cuaderno se comprueba la calibración en dosis absorbida [Gy] del irradiador.\n",
    "\n",
    "Se emplean películas radiocrómicas irradiadas en el seno de un maniquí cilíndrico lleno de agua. \n",
    "Se miden planos de dosis que pasan por su eje longitudinal y cortan el cilindro verticalmente en dos mitades iguales.\n",
    "\n",
    "![Colocación de las películas](https://drive.google.com/uc?id=1nRx-rCBUHU9N_MAJO-RLlmetvLFuEkk6)\n",
    "\n",
    "![Colocación de las películas](https://drive.google.com/uc?id=1tNxiW8Mck7arypb3WG9XkYh5-Xkr6m2P)\n",
    "\n",
    "Para realizar la calibración se han considerado tres niveles de dosis nominales: 2.05, 4.1 y 8.2 Gy correspondientes a tiempos de irradiación de 22 segundos, 44 segundos y 1 minuto 28 segundos según indica el *Display* del irradiador. \n",
    "\n",
    "![Display del irradiador](https://drive.google.com/uc?id=1gsQh33kEsMrw_AflldwGbNwfq_LjVlZL)\n",
    "\n",
    "La calibración se realizará respecto a la indicación de la dosis central. Esta dosis se entiende referida al punto central del volumen de irradiación en el seno del agua. La indicacción de dosis mínima se entiende que corresponde a la dosis en el centro de la base y de la tapa del cilindro del volumen de irradiación, donde la intensidad de la radiación cae por la geometría de la fuente y donde es mayor la atenuación producida por el agua. A modo de comprobación la calibración también se realiza a partir de esta indicación, pero hay que tener en cuenta que en este caso la incertidumbre es mucho mayor por la dificultad de medir la dosis en el borde del detector.\n",
    "\n",
    "Cada nivel de dosis se ha medido irradiando simultáneamente dos películas.\n",
    "\n",
    "La siguiente imagen muestra las películas ya irradiadas\n",
    "\n",
    "![Película irradiada](https://drive.google.com/uc?id=1QP0PeZrt6wPbfdvcYib_IuSs_SyGrhvC)\n",
    "\n",
    "Cada película irradiada se ha digitalizado dos veces.\n",
    "\n",
    "Las imágenes digitalizadas se han procesado mediante un protocolo de digitalización única y promedios no locales. El procesado cuenta con chequeos adicionales de control de calidad que garantizan que la calibración del sistema de dosimetría radiocrómica es correcta. Consisten en medir distribuciones de dosis conocidas de valores similares a los de las dosis que se quieren determinar en el irradiador.\n",
    "\n",
    "![Digitalización](https://drive.google.com/uc?id=1q6tdSSwQyjqhoC4kIsTmDJysBDcf74YB)\n",
    "\n",
    "Las dosis leídas están guardadas en formato dxf, un formato de intercambio de datos desarrollado por  Varian. Son archivos csv con un encabezado de metainformación.\n",
    "\n",
    "Los resultados son reproducibles reanalizando las imágenes digitalizadas mediante la aplicación [chromlit](https://chromlit.streamlit.app)\n",
    "\n",
    "## Análisis\n",
    "Descargar e instalar las funciones auxiliares y descargar los datos de las medidas"
   ]
  },
  {
   "cell_type": "code",
   "execution_count": null,
   "id": "50edd35e-a90f-46e9-a0b7-b483336fa4ae",
   "metadata": {},
   "outputs": [],
   "source": [
    "!git clone -n --depth=1 --filter=tree:0 https://github.com/csarux/IrradiadorCs137\n",
    "%cd IrradiadorCs137\n",
    "!git sparse-checkout set --no-cone Minicilindro/src/lpyrad\n",
    "!git checkout\n",
    "%cd Minicilindro\n",
    "!wget --no-check-certificate 'https://docs.google.com/uc?export=download&id=1bS9xwnJ7NZrWtXn92LPBRQ_b0VxPewvK' -O Data20240620.zip\n",
    "!unzip Data20240620.zip\n",
    "!pip install src/lpyrad"
   ]
  },
  {
   "cell_type": "markdown",
   "id": "18d4d6e0-16bb-4ecf-9b81-73b8079f7f4b",
   "metadata": {},
   "source": [
    "Importación de módulos. El módulo `lpyrad` contiene funciones accesorias para realizar el análisis"
   ]
  },
  {
   "cell_type": "code",
   "execution_count": null,
   "id": "11df3b30-be23-4418-8ad5-90e080bb43b4",
   "metadata": {},
   "outputs": [],
   "source": [
    "import pandas as pd\n",
    "from glob import glob\n",
    "import matplotlib.pyplot as plt\n",
    "import numpy as np\n",
    "from scipy.optimize import curve_fit\n",
    "import lpyrad as lrd "
   ]
  },
  {
   "cell_type": "markdown",
   "id": "b0e301ed-3c18-49c9-ab9b-b6361d69f866",
   "metadata": {},
   "source": [
    "Cambiar al directorios de datos: contiene las imágenes digitalizadas, las dosis leídas y las dosis de las tiras de calibración y control de calidad."
   ]
  },
  {
   "cell_type": "code",
   "execution_count": null,
   "id": "ac16f780-99bc-4bf2-8d69-e4b964f42038",
   "metadata": {},
   "outputs": [],
   "source": [
    "%cd Data/20240620"
   ]
  },
  {
   "cell_type": "markdown",
   "id": "cb40757d-021d-4711-b477-8fafbfd363c9",
   "metadata": {},
   "source": [
    "Obtener una lista de todos los archivos de dosis"
   ]
  },
  {
   "cell_type": "code",
   "execution_count": null,
   "id": "de2d1e4e-0a22-4fca-be67-1fb4cf95cef3",
   "metadata": {},
   "outputs": [],
   "source": [
    "file_list = glob('*.dxf')"
   ]
  },
  {
   "cell_type": "markdown",
   "id": "28fa17fe-9c0c-40c2-917f-c83930278c8f",
   "metadata": {},
   "source": [
    "Leer todos las dosis en los archivos dxf y crear un diccionario en el que las claves son los nombres de los archivos"
   ]
  },
  {
   "cell_type": "code",
   "execution_count": null,
   "id": "56e15002-7c9b-421d-ac66-2b6b0601de54",
   "metadata": {},
   "outputs": [],
   "source": [
    "dose_dict = {file : lrd.read_dose(file) for file in file_list}"
   ]
  },
  {
   "cell_type": "markdown",
   "id": "13f02145-4f13-40b1-a7d4-05b3ef71e7e0",
   "metadata": {},
   "source": [
    "Leer las distribuciones de dosis de chequeo, rendimientos en profundidad"
   ]
  },
  {
   "cell_type": "code",
   "execution_count": null,
   "id": "bf39fc69-dec0-4754-a33c-f571595081b5",
   "metadata": {},
   "outputs": [],
   "source": [
    "pdd250df = pd.read_excel('PDDCalib.xlsx', sheet_name='250')\n",
    "pdd500df = pd.read_excel('PDDCalib.xlsx', sheet_name='500')\n",
    "pdd999df = pd.read_excel('PDDCalib.xlsx', sheet_name='999')"
   ]
  },
  {
   "cell_type": "markdown",
   "id": "ab6e2045-07d4-4b56-b943-1bedd18ca212",
   "metadata": {},
   "source": [
    "## Irradiación de 2 Gy\n",
    "\n",
    "Distribuciones de dosis"
   ]
  },
  {
   "cell_type": "code",
   "execution_count": null,
   "id": "3b85f02a-25d8-4a13-8693-047992b04ea8",
   "metadata": {},
   "outputs": [],
   "source": [
    "irrad2planes = ['I.1.c250.dxf', 'I.2.c250.dxf', 'II.1.c250.dxf', 'II.2.c250.dxf']"
   ]
  },
  {
   "cell_type": "code",
   "execution_count": null,
   "id": "6f0a5b8f-39b7-4537-a705-7f3140ef3e8b",
   "metadata": {},
   "outputs": [],
   "source": [
    "fig, ((ax1, ax2), (ax3, ax4)) = plt.subplots(nrows=2, ncols=2, figsize=(15,10))\n",
    "[lrd.dose_plane_plot(dose_dict, plane=plane, minimum=2., maximum=3., step=0.1, ax=ax)\n",
    "    for plane, ax in zip(irrad2planes, (ax1, ax2, ax3, ax4))]\n",
    "plt.show()"
   ]
  },
  {
   "cell_type": "markdown",
   "id": "83f91486-856d-4b41-956b-fa1902d66bf4",
   "metadata": {},
   "source": [
    "Promedio de las cuatro medidas de dosis"
   ]
  },
  {
   "cell_type": "code",
   "execution_count": null,
   "id": "114c8cb6-e5a2-4609-bad0-e01b6f663f4e",
   "metadata": {},
   "outputs": [],
   "source": [
    "# Tamaño máximo de cada eje entre los cuatro planos \n",
    "maxshape = np.array([dose_dict[plane].values.shape for plane in irrad2planes]).max(axis=0)\n",
    "# Padding de los cuatro planos\n",
    "doseplanes = [dose_dict[plane] for plane in irrad2planes]\n",
    "# ND array de los cuatro planos\n",
    "stackplane = np.stack([lrd.to_shape(doseplane, maxshape) for doseplane in doseplanes])\n",
    "# Promedio de los cuatro planos\n",
    "plane2 = stackplane.mean(axis=0)\n",
    "# Estimación de incertidumbres: desviaciones estándar de la dosis en los cuatro planos\n",
    "stdplane2 = stackplane.std(axis=0)"
   ]
  },
  {
   "cell_type": "markdown",
   "id": "2395b28f-ea14-4a34-b22f-f6e8c661cbc0",
   "metadata": {},
   "source": [
    "Distribución de dosis promediada"
   ]
  },
  {
   "cell_type": "code",
   "execution_count": null,
   "id": "e34ea81a-bc9a-4eb2-bcba-9b9975950afc",
   "metadata": {},
   "outputs": [],
   "source": [
    "fig, ax = plt.subplots()\n",
    "lrd.mean_dose_plane_plot(plane2, minimum=2., maximum=3., step=0.1, ax=ax)"
   ]
  },
  {
   "cell_type": "markdown",
   "id": "32f4c3b9-b922-4974-a45c-84e1d7f2f855",
   "metadata": {},
   "source": [
    "Control de calidad de la calibración de 250 UM"
   ]
  },
  {
   "cell_type": "code",
   "execution_count": null,
   "id": "9d6bdebf-6b4b-41d1-ac06-8128fe414384",
   "metadata": {},
   "outputs": [],
   "source": [
    "px_y = 50\n",
    "\n",
    "fig, ax = plt.subplots()\n",
    "\n",
    "ax.plot(dose_dict['I.1.t250.c250_est.dxf'].iloc[px_y], label='Med 250 UM')\n",
    "ax.plot(pdd500df.z, pdd250df.D, label='Plan 250 UM')\n",
    "ax.plot(dose_dict['I.1.t500.c250_est.dxf'].iloc[px_y], label='Med 500 UM')\n",
    "ax.plot(pdd500df.z, pdd500df.D, label='Plan 500 UM')\n",
    "ax.plot(dose_dict['I.1.t999.c250_est.dxf'].iloc[px_y], label='Med 999 UM')\n",
    "ax.plot(pdd999df.z, pdd999df.D, label='Plan 999 UM')\n",
    "\n",
    "ax.set_xlabel('Profundidad [cm]')\n",
    "ax.set_ylabel('Dosis [Gy]')\n",
    "\n",
    "ax.legend()\n",
    "plt.show()"
   ]
  },
  {
   "cell_type": "markdown",
   "id": "3ae214fc-48bd-4a51-bec0-42ae855882a4",
   "metadata": {
    "tags": []
   },
   "source": [
    "En este caso la el nivel de dosis relevante corresponde a 250 UM\n",
    "\n",
    "## Irradiación de 4 Gy\n",
    "\n",
    "Distribuciones de dosis"
   ]
  },
  {
   "cell_type": "code",
   "execution_count": null,
   "id": "ea4ae793-64a6-4ccd-8341-12bc0222e109",
   "metadata": {},
   "outputs": [],
   "source": [
    "irrad4planes = ['III.1.c500.dxf', 'III.2.c500.dxf', 'IV.1.c500.dxf', 'IV.2.c500.dxf']"
   ]
  },
  {
   "cell_type": "code",
   "execution_count": null,
   "id": "9fa29ba0-5c33-4b8f-9406-795be4200c57",
   "metadata": {},
   "outputs": [],
   "source": [
    "fig, ((ax1, ax2), (ax3, ax4)) = plt.subplots(nrows=2, ncols=2, figsize=(15,10))\n",
    "[lrd.dose_plane_plot(dose_dict, plane=plane, minimum=4., maximum=6.4, step=0.2, ax=ax)\n",
    "    for plane, ax in zip(irrad4planes, (ax1, ax2, ax3, ax4))]\n",
    "plt.show()"
   ]
  },
  {
   "cell_type": "markdown",
   "id": "9542d195-ebc4-441a-bf79-d16d8a770b09",
   "metadata": {},
   "source": [
    "Promedio de las cuatro medidas de dosis"
   ]
  },
  {
   "cell_type": "code",
   "execution_count": null,
   "id": "cc758962-7aa5-4f57-b958-0e9771bf02d6",
   "metadata": {},
   "outputs": [],
   "source": [
    "# Tamaño máximo de cada eje entre los cuatro planos \n",
    "maxshape = np.array([dose_dict[plane].values.shape for plane in irrad4planes]).max(axis=0)\n",
    "# Padding de los cuatro planos\n",
    "doseplanes = [dose_dict[plane] for plane in irrad4planes]\n",
    "# ND array de los cuatro planos\n",
    "stackplane = np.stack([lrd.to_shape(doseplane, maxshape) for doseplane in doseplanes])\n",
    "# Promedio de los cuatro planos\n",
    "plane4 = stackplane.mean(axis=0)\n",
    "# Estimación de incertidumbres: desviaciones estándar de la dosis en los cuatro planos\n",
    "stdplane4 = stackplane.std(axis=0)"
   ]
  },
  {
   "cell_type": "markdown",
   "id": "2e3d9637-9c48-429d-96c1-246c6a2cd2dd",
   "metadata": {},
   "source": [
    "Distribución de dosis promediada"
   ]
  },
  {
   "cell_type": "code",
   "execution_count": null,
   "id": "e0b36758-5f38-4747-b4a5-d2274ba91e7a",
   "metadata": {},
   "outputs": [],
   "source": [
    "fig, ax = plt.subplots()\n",
    "lrd.mean_dose_plane_plot(plane4, minimum=4., maximum=6.4, step=0.2, ax=ax)"
   ]
  },
  {
   "cell_type": "markdown",
   "id": "0adec5d9-b48b-4861-862b-52c83297c494",
   "metadata": {},
   "source": [
    "Control de calidad de la calibración de 500 UM"
   ]
  },
  {
   "cell_type": "code",
   "execution_count": null,
   "id": "85d78de9-cc0d-4bea-8035-6e0535e98cac",
   "metadata": {},
   "outputs": [],
   "source": [
    "px_y = 50\n",
    "\n",
    "fig, ax = plt.subplots()\n",
    "\n",
    "ax.plot(dose_dict['III.1.t250.c500.dxf'].iloc[px_y], label='Med 250 UM')\n",
    "ax.plot(pdd250df.z, pdd250df.D, label='Plan 250 UM')\n",
    "ax.plot(dose_dict['III.1.t500.c500.dxf'].iloc[px_y], label='Med 500 UM')\n",
    "ax.plot(pdd500df.z, pdd500df.D, label='Plan 500 UM')\n",
    "ax.plot(dose_dict['III.1.t999.c500.dxf'].iloc[px_y], label='Med 999 UM')\n",
    "ax.plot(pdd999df.z, pdd999df.D, label='Plan 999 UM')\n",
    "\n",
    "ax.set_xlabel('Profundidad [cm]')\n",
    "ax.set_ylabel('Dosis [Gy]')\n",
    "\n",
    "ax.legend()\n",
    "plt.show()"
   ]
  },
  {
   "cell_type": "markdown",
   "id": "9e685ac8-1b60-4fb8-9513-b41454fd380d",
   "metadata": {
    "tags": []
   },
   "source": [
    "## Irradiación de 8 Gy\n",
    "\n",
    "Distribuciones de dosis"
   ]
  },
  {
   "cell_type": "code",
   "execution_count": null,
   "id": "a7ae9fb6-f073-44b8-bcaa-6a4ee6b63ff5",
   "metadata": {},
   "outputs": [],
   "source": [
    "irrad8planes = ['V.1.c999.dxf', 'V.2.c999.dxf', 'VI.1.c999.dxf', 'VI.2.c999.dxf']"
   ]
  },
  {
   "cell_type": "code",
   "execution_count": null,
   "id": "e43b1737-17c5-4241-885c-96552c36abe7",
   "metadata": {},
   "outputs": [],
   "source": [
    "fig, ((ax1, ax2), (ax3, ax4)) = plt.subplots(nrows=2, ncols=2, figsize=(15,10))\n",
    "[lrd.dose_plane_plot(dose_dict, plane=plane, minimum=8., maximum=10., step=0.4, ax=ax)\n",
    "    for plane, ax in zip(irrad8planes, (ax1, ax2, ax3, ax4))]\n",
    "plt.show()"
   ]
  },
  {
   "cell_type": "markdown",
   "id": "1b8f992a-1e9d-4969-9a4f-0d834ebb5ae2",
   "metadata": {},
   "source": [
    "Promedio de las cuatro medidas de dosis"
   ]
  },
  {
   "cell_type": "code",
   "execution_count": null,
   "id": "ace252fd-b508-4854-8687-ed06fef66a60",
   "metadata": {},
   "outputs": [],
   "source": [
    "# Tamaño máximo de cada eje entre los cuatro planos \n",
    "maxshape = np.array([dose_dict[plane].values.shape for plane in irrad8planes]).max(axis=0)\n",
    "# Padding de los cuatro planos\n",
    "doseplanes = [dose_dict[plane] for plane in irrad8planes]\n",
    "# ND array de los cuatro planos\n",
    "stackplane = np.stack([lrd.to_shape(doseplane, maxshape) for doseplane in doseplanes])\n",
    "# Promedio de los cuatro planos\n",
    "plane8 = stackplane.mean(axis=0)\n",
    "# Estimación de incertidumbres: desviaciones estándar de la dosis en los cuatro planos\n",
    "stdplane8 = stackplane.std(axis=0)"
   ]
  },
  {
   "cell_type": "markdown",
   "id": "7dab3c77-9ff2-4ef2-b739-4b95f980f866",
   "metadata": {},
   "source": [
    "Distribución de dosis promediada"
   ]
  },
  {
   "cell_type": "code",
   "execution_count": null,
   "id": "8e5eccda-c999-4067-a0e2-3d1d1c087632",
   "metadata": {},
   "outputs": [],
   "source": [
    "fig, ax = plt.subplots()\n",
    "lrd.mean_dose_plane_plot(plane8, minimum=8., maximum=10., step=0.4, ax=ax)"
   ]
  },
  {
   "cell_type": "markdown",
   "id": "a3ff9f0e-c177-434c-989b-9bf741ae6f47",
   "metadata": {},
   "source": [
    "Control de calidad de la calibración de 999 UM"
   ]
  },
  {
   "cell_type": "code",
   "execution_count": null,
   "id": "71190c99-0a6a-45e2-921e-23044f34af25",
   "metadata": {},
   "outputs": [],
   "source": [
    "px_y = 25\n",
    "\n",
    "fig, ax = plt.subplots()\n",
    "\n",
    "ax.plot(dose_dict['V.1.t250.c999.dxf'].iloc[px_y], label='Med 250 UM')\n",
    "ax.plot(pdd250df.z, pdd250df.D, label='Plan 250 UM')\n",
    "ax.plot(dose_dict['V.1.t500.c999.dxf'].iloc[px_y], label='Med 500 UM')\n",
    "ax.plot(pdd500df.z, pdd500df.D, label='Plan 500 UM')\n",
    "ax.plot(dose_dict['V.1.t999.c999.dxf'].iloc[px_y], label='Med 999 UM')\n",
    "ax.plot(pdd999df.z, pdd999df.D, label='Plan 999 UM')\n",
    "\n",
    "ax.set_xlabel('Profundidad [cm]')\n",
    "ax.set_ylabel('Dosis [Gy]')\n",
    "\n",
    "ax.legend()\n",
    "plt.show()"
   ]
  },
  {
   "cell_type": "markdown",
   "id": "37716f56-a2a2-4514-b927-104cfa84ee4c",
   "metadata": {},
   "source": [
    "## Comparación con la referencia\n",
    "\n",
    "Renormalizamos las tres distribuciones por su valor central y las promediamos"
   ]
  },
  {
   "cell_type": "code",
   "execution_count": null,
   "id": "a724f35c-418f-4bad-a8b8-1e176e46b218",
   "metadata": {},
   "outputs": [],
   "source": [
    "# Tamaño máximo de cada eje entre los cuatro planos \n",
    "maxshape = np.array([plane.shape for plane in (plane2, plane4, plane8)]).max(axis=0)\n",
    "# Padding de los cuatro planos\n",
    "doseplanes = [plane/plane[90, 190] for plane in (plane2, plane4, plane8)]\n",
    "# ND array de los cuatro planos\n",
    "stackplane = np.stack([lrd.to_shape(doseplane, maxshape) for doseplane in doseplanes])\n",
    "# Promedio de los cuatro planos\n",
    "plane_renorm = stackplane.mean(axis=0)"
   ]
  },
  {
   "cell_type": "markdown",
   "id": "fc9b1c74-9070-4cc8-8df5-52bd2fc19384",
   "metadata": {},
   "source": [
    "Representar la dostribución de dosis medida y la proporcionada por el fabricante "
   ]
  },
  {
   "cell_type": "code",
   "execution_count": null,
   "id": "9222d519-9ca1-416a-9a28-bf36e13cb514",
   "metadata": {},
   "outputs": [],
   "source": [
    "fig, (axm, axt) = plt.subplots(nrows=2, figsize=(8,10))\n",
    "\n",
    "mrg = 14\n",
    "lrd.mean_dose_plane_plot(plane_renorm[mrg:-mrg, mrg:-mrg]*25, minimum=21, maximum=29, step=1, ax=axm)\n",
    "axm.set_title('Distribución dosis medida')\n",
    "axm.set_xlim(0, 16.4)\n",
    "axm.set_ylim(0, 6.)\n",
    "\n",
    "lrd.mds_dose_plane_plot(minimum=21, maximum=29, step=1, ax=axt)\n",
    "axt.set_title('Distribución dosis según MDS Nordion')\n",
    "plt.show()"
   ]
  },
  {
   "cell_type": "markdown",
   "id": "fb84fe30-3043-4336-9fad-182f4db7e254",
   "metadata": {},
   "source": [
    "## Calibración\n",
    "\n",
    "Comparamos las dosis nominales (dosis central en el *display* del irradiador con las dosis medida en el cenntro de los planos medidos."
   ]
  },
  {
   "cell_type": "code",
   "execution_count": null,
   "id": "9fe216c1-78e9-45d1-bc9c-7c9098a1ec3c",
   "metadata": {},
   "outputs": [],
   "source": [
    "nominal_doses = [2.05, 4.1, 8.2]\n",
    "measured_doses = [plane[70, 80] for plane in (plane2, plane4, plane8)]\n",
    "unc_measured_doses = np.array([plane[mrg:-mrg, mrg:-mrg].mean() for plane in (stdplane2, stdplane4, stdplane8)])"
   ]
  },
  {
   "cell_type": "code",
   "execution_count": null,
   "id": "69b86da9-8187-41dd-a3a8-7d63b6f08a4e",
   "metadata": {},
   "outputs": [],
   "source": [
    "def calibrationf(x, a, b):\n",
    "    return a*x + b"
   ]
  },
  {
   "cell_type": "code",
   "execution_count": null,
   "id": "724e52c5-7e9c-4dc2-9579-8bbd4a3380c3",
   "metadata": {},
   "outputs": [],
   "source": [
    "cal_params, cov_matrix = curve_fit(calibrationf, nominal_doses, measured_doses, p0=[1, 0], sigma=unc_measured_doses)\n",
    "a, b =  cal_params\n",
    "ua, ub = np.sqrt(cov_matrix[0,0]), np.sqrt(cov_matrix[1,1])"
   ]
  },
  {
   "cell_type": "code",
   "execution_count": null,
   "id": "42992fac-88bd-44f6-893e-dd2b3cbbe376",
   "metadata": {},
   "outputs": [],
   "source": [
    "fig, ax = plt.subplots(figsize=(5,5))\n",
    "ax.plot([0., 9.], [calibrationf(0., *cal_params), calibrationf(9., *cal_params)], 'r-', label='Calibración')\n",
    "ax.errorbar(nominal_doses, measured_doses, yerr=unc_measured_doses, marker='o', linestyle='none', label='Medidas')\n",
    "ax.set_xlabel('Dosis nomminal [Gy]')\n",
    "ax.set_ylabel('Dosis medida [Gy]')\n",
    "ax.text(x=0.1, y=6.5, s=f'Dosis = ({a:.3f} \\u00B1 {ua:.3f}) Dosis Display + ({b:.3f} \\u00B1 {ub:.3f})')\n",
    "ax.legend()\n",
    "plt.show()"
   ]
  },
  {
   "cell_type": "markdown",
   "id": "a99187ba-a39e-4bbd-873d-0c2ce04209ab",
   "metadata": {},
   "source": [
    "### Chequeo de la calibración\n",
    "\n",
    "Repetimos la calibración empleando la indicación de dosis mínima. Téngase en cuenta que en este caso la incertidumbre es mayor por la dificultad de determinar la dosis en el borde del detector."
   ]
  },
  {
   "cell_type": "code",
   "execution_count": null,
   "id": "148b651a-b1e4-48f4-a99b-67a7bc1abff3",
   "metadata": {},
   "outputs": [],
   "source": [
    "nominal_minimum_doses = [1.74, 3.49, 6.99]\n",
    "measured_minimum_doses = [plane[90, -12] for plane in (plane2, plane4, plane8)]\n",
    "unc_measured_doses = np.array([plane[mrg:-mrg, mrg:-mrg].mean() for plane in (stdplane2, stdplane4, stdplane8)])"
   ]
  },
  {
   "cell_type": "code",
   "execution_count": null,
   "id": "e60f8e58-74dd-4000-80d4-6a828ffca597",
   "metadata": {},
   "outputs": [],
   "source": [
    "minimum_cal_params, minimum_cov_matrix = curve_fit(calibrationf, nominal_minimum_doses, measured_minimum_doses, p0=[1, 0], sigma=unc_measured_doses)\n",
    "amin, bmin =  minimum_cal_params\n",
    "uamin, ubmin = np.sqrt(minimum_cov_matrix[0,0]), np.sqrt(minimum_cov_matrix[1,1])"
   ]
  },
  {
   "cell_type": "code",
   "execution_count": null,
   "id": "359db3c9-e3e8-4ac3-9150-8a29946c8f58",
   "metadata": {},
   "outputs": [],
   "source": [
    "fig, ax = plt.subplots(figsize=(5,5))\n",
    "ax.plot([0., 9.], [calibrationf(0., *minimum_cal_params), calibrationf(9., *minimum_cal_params)], 'r-', label='Calibración')\n",
    "ax.errorbar(nominal_minimum_doses, measured_minimum_doses, yerr=unc_measured_doses, marker='o', linestyle='none', label='Medidas')\n",
    "ax.set_xlabel('Dosis mínima nomminal [Gy]')\n",
    "ax.set_ylabel('Dosis mínima medida [Gy]')\n",
    "ax.text(x=0.1, y=6.5, s=f'Dosis = ({amin:.3f} \\u00B1 {uamin:.3f}) Dosis Display + ({bmin:.3f} \\u00B1 {ubmin:.3f})')\n",
    "ax.legend()\n",
    "plt.show()"
   ]
  },
  {
   "cell_type": "markdown",
   "id": "bf19064b-f121-4587-97de-0067bd9f55d5",
   "metadata": {},
   "source": [
    "## Conclusiones\n",
    "\n",
    "Los resultados indican un error en el factor de calibración del orden del 5% y un error de cero de 0.25 Gy.\n",
    "\n",
    "Hay que tener en cuenta que el cilindro de agua que hemos utilizado no ajusta completamente en el portamuestras, el diámetro es inferior en aproximadamente 1 cm. Del mapa de isodosis podemos estimar que eso supone una atenuación inferior en un 4% ó 5% que justificaría la diferencia en el factor de calibración. \n",
    "\n",
    "Por tanto el único error en la calibración es el error sistemático de cero que para irradiaciones típicas de 25 Gy sería un error del orden del 1%."
   ]
  }
 ],
 "metadata": {
  "kernelspec": {
   "display_name": "Python 3 (ipykernel)",
   "language": "python",
   "name": "python3"
  },
  "language_info": {
   "codemirror_mode": {
    "name": "ipython",
    "version": 3
   },
   "file_extension": ".py",
   "mimetype": "text/x-python",
   "name": "python",
   "nbconvert_exporter": "python",
   "pygments_lexer": "ipython3",
   "version": "3.9.18"
  }
 },
 "nbformat": 4,
 "nbformat_minor": 5
}
